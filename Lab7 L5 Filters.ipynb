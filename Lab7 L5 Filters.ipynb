{
 "cells": [
  {
   "cell_type": "code",
   "execution_count": 2,
   "metadata": {},
   "outputs": [
    {
     "data": {
      "application/vnd.jupyter.widget-view+json": {
       "model_id": "",
       "version_major": 2,
       "version_minor": 0
      },
      "text/plain": []
     },
     "metadata": {},
     "output_type": "display_data"
    },
    {
     "data": {
      "text/html": [
       "<b>Pipeline Execution Time:</b> 15.80 Seconds"
      ],
      "text/plain": [
       "<IPython.core.display.HTML object>"
      ]
     },
     "metadata": {},
     "output_type": "display_data"
    },
    {
     "data": {
      "text/html": [
       "<div>\n",
       "<table border=\"1\" class=\"dataframe\">\n",
       "  <thead>\n",
       "    <tr style=\"text-align: right;\">\n",
       "      <th></th>\n",
       "      <th></th>\n",
       "      <th>high_dollar_volume</th>\n",
       "      <th>percent_difference</th>\n",
       "    </tr>\n",
       "  </thead>\n",
       "  <tbody>\n",
       "    <tr>\n",
       "      <th rowspan=\"5\" valign=\"top\">2015-05-05 00:00:00+00:00</th>\n",
       "      <th>Equity(2 [HWM])</th>\n",
       "      <td>True</td>\n",
       "      <td>0.017975</td>\n",
       "    </tr>\n",
       "    <tr>\n",
       "      <th>Equity(21 [AAME])</th>\n",
       "      <td>False</td>\n",
       "      <td>-0.002325</td>\n",
       "    </tr>\n",
       "    <tr>\n",
       "      <th>Equity(24 [AAPL])</th>\n",
       "      <td>True</td>\n",
       "      <td>0.016905</td>\n",
       "    </tr>\n",
       "    <tr>\n",
       "      <th>Equity(25 [HWM_PR])</th>\n",
       "      <td>False</td>\n",
       "      <td>0.021544</td>\n",
       "    </tr>\n",
       "    <tr>\n",
       "      <th>Equity(31 [ABAX])</th>\n",
       "      <td>False</td>\n",
       "      <td>-0.019639</td>\n",
       "    </tr>\n",
       "  </tbody>\n",
       "</table>\n",
       "</div>"
      ],
      "text/plain": [
       "                                              high_dollar_volume  \\\n",
       "2015-05-05 00:00:00+00:00 Equity(2 [HWM])                   True   \n",
       "                          Equity(21 [AAME])                False   \n",
       "                          Equity(24 [AAPL])                 True   \n",
       "                          Equity(25 [HWM_PR])              False   \n",
       "                          Equity(31 [ABAX])                False   \n",
       "\n",
       "                                               percent_difference  \n",
       "2015-05-05 00:00:00+00:00 Equity(2 [HWM])                0.017975  \n",
       "                          Equity(21 [AAME])             -0.002325  \n",
       "                          Equity(24 [AAPL])              0.016905  \n",
       "                          Equity(25 [HWM_PR])            0.021544  \n",
       "                          Equity(31 [ABAX])             -0.019639  "
      ]
     },
     "execution_count": 2,
     "metadata": {},
     "output_type": "execute_result"
    }
   ],
   "source": [
    "from quantopian.pipeline import Pipeline\n",
    "from quantopian.research import run_pipeline\n",
    "from quantopian.pipeline.data.builtin import USEquityPricing\n",
    "from quantopian.pipeline.factors import SimpleMovingAverage\n",
    "from quantopian.pipeline.factors import AverageDollarVolume, SimpleMovingAverage\n",
    "\n",
    "\n",
    "def make_pipeline():\n",
    "\n",
    "    mean_close_10 = SimpleMovingAverage(\n",
    "        inputs=[USEquityPricing.close],\n",
    "        window_length=10\n",
    "    )\n",
    "    mean_close_30 = SimpleMovingAverage(\n",
    "        inputs=[USEquityPricing.close],\n",
    "        window_length=30\n",
    "    )\n",
    "\n",
    "    percent_difference = (mean_close_10 - mean_close_30) / mean_close_30\n",
    "\n",
    "    dollar_volume = AverageDollarVolume(window_length=30)\n",
    "\n",
    "    high_dollar_volume = (dollar_volume > 10000000)\n",
    "\n",
    "    return Pipeline(\n",
    "        columns={\n",
    "            'percent_difference': percent_difference,\n",
    "            'high_dollar_volume': high_dollar_volume\n",
    "        },\n",
    "    )\n",
    "\n",
    "result = run_pipeline(make_pipeline(),'2015-05-05','2015-05-05')\n",
    "result.head()"
   ]
  },
  {
   "cell_type": "code",
   "execution_count": null,
   "metadata": {},
   "outputs": [],
   "source": []
  }
 ],
 "metadata": {
  "kernelspec": {
   "display_name": "Python 3.5",
   "language": "python",
   "name": "py35"
  },
  "language_info": {
   "codemirror_mode": {
    "name": "ipython",
    "version": 3
   },
   "file_extension": ".py",
   "mimetype": "text/x-python",
   "name": "python",
   "nbconvert_exporter": "python",
   "pygments_lexer": "ipython3",
   "version": "3.5.9"
  }
 },
 "nbformat": 4,
 "nbformat_minor": 2
}
